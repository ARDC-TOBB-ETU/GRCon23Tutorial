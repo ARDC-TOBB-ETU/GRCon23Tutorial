{
 "cells": [
  {
   "cell_type": "markdown",
   "id": "099d86fe",
   "metadata": {},
   "source": [
    "# LabDSP: Hands-on DSP using GNU Radio and Sound Card"
   ]
  },
  {
   "cell_type": "markdown",
   "id": "73d0f9ef",
   "metadata": {},
   "source": [
    "## GNU Radio\n",
    "GNU Radio is software radio toolkit that is free and open-source (**FOSS**). It has many DSP blocks which are mostly written in **C++**. You can also write blocks in **Python** though their execution will be slower. GNU Radio also has a built-in **scheduler** to provide blocks with data thay need. Data flow is handled by scheduler. Each block has a specific function.\n",
    "\n",
    "GNU Radio has no GUI but it comes with an application called **GNURadio Companion (GRC)** so you can add and connect blocks together to build what is called a **flowgraph**. You can find a block by searching from available blocks. After you find your block you can add blocks either by double clicking on it or dragging and dropping it onto the surface of GRC. You can also connect blocks in a Python scrit if you wish. Actually this is what GRC does! It generates a script file to do all connections and start the flowgraph. Every flowgraph starts with a **source** block and terminates with a **sink** block. \n",
    "\n",
    "## Task1: Characterizing a real bandpass filter\n",
    "Below is the first flowgraph we will create. In this example we will examine filter characteristics of a bandpass filter. Filters are fundamental building blocks of DSP. Our flowgraph has one source and two sink blocks. We feed the flowgraph with a **noise source** in order to see filter's spectral characteristics and we use sink blocks to display the resulting spectrum and to hear the sound. Try to change the filter properties and see the effects of change of the filter. \n",
    "\n",
    "<center><img src=\"./lab_dsp_noise_bandpass_filter.png\" alt=\"gsm\" style=\"width: 800px;\"/></center>\n",
    "<center>Figure 1: Characterizing a real bandpass filter and playing its output on the sound card </center>\n",
    "\n"
   ]
  },
  {
   "cell_type": "markdown",
   "id": "c78cc346-5795-47fe-b3fa-622993ebadff",
   "metadata": {},
   "source": [
    "## Q1. Upload a screenshot below this line showing your sound card's supported sampling rates. (5pts)"
   ]
  },
  {
   "cell_type": "markdown",
   "id": "3bca1cd4-2003-41d5-a15c-1a47559923d9",
   "metadata": {},
   "source": []
  },
  {
   "cell_type": "markdown",
   "id": "ac6c8ae0-14c5-41df-9d15-1c958cb705de",
   "metadata": {},
   "source": [
    "## Q2. What kind of filter is this? (5pts)"
   ]
  },
  {
   "cell_type": "markdown",
   "id": "c81c9ecd-ee4e-4cda-83b6-b928773b2bac",
   "metadata": {},
   "source": []
  },
  {
   "cell_type": "markdown",
   "id": "989effa3-54a2-43b9-a518-0e6b20526de4",
   "metadata": {},
   "source": [
    "## Q3. What is the default passband length of this filter? (5pts)"
   ]
  },
  {
   "cell_type": "markdown",
   "id": "c1c65a10-03d1-4908-9b10-6aa61fd644b2",
   "metadata": {},
   "source": []
  },
  {
   "cell_type": "markdown",
   "id": "f67c87d9-80d6-4b57-b3ea-228e4a26f6ff",
   "metadata": {},
   "source": [
    "## Q4. What happens when you play with low frequency & high frequency widgets in the GUI? (5pts)"
   ]
  },
  {
   "cell_type": "markdown",
   "id": "754e49c4-c987-4cf3-a01f-c033fe7670c7",
   "metadata": {},
   "source": []
  },
  {
   "cell_type": "markdown",
   "id": "ea917d7e-01c7-4d54-b576-dbf5ace93b8c",
   "metadata": {},
   "source": [
    "## Q5. Locate the python script that GRC generated. Modify it so that it prints the length of the filter. By default how many taps does this filter have? (5pts)"
   ]
  },
  {
   "cell_type": "code",
   "execution_count": null,
   "id": "d6a6845e-fd34-493d-9671-c7812df4057e",
   "metadata": {},
   "outputs": [],
   "source": []
  },
  {
   "cell_type": "markdown",
   "id": "d3b1a3f3-feed-491a-921f-837b5998659f",
   "metadata": {},
   "source": [
    "## Q6. Modify the python file to generate a table like below to calculate filter tap sizes for transition bandwidths of 100, 200, and 300 for sample rates (SR) of 16000, 32000, and 48000. (15pts)"
   ]
  },
  {
   "cell_type": "markdown",
   "id": "9085eede-f90f-48d2-958b-34c92e640f87",
   "metadata": {},
   "source": [
    "| Table             | SR=16000      | SR=32000       | SR=48000      |\n",
    "| -------------     |:-------------:| :-------------:|:-------------:|\n",
    "| tran. width = 100 |               |                |               |\n",
    "| tran. width = 200 |               |                |               |\n",
    "| tran. width = 300 |               |                |               |"
   ]
  },
  {
   "cell_type": "markdown",
   "id": "e7c1ff89-e470-425c-a8e2-a5d9a37bb551",
   "metadata": {},
   "source": [
    "## Q7. Plot it in a graph below this line. (tap size vs. transition width) (15pts)\n"
   ]
  },
  {
   "cell_type": "code",
   "execution_count": null,
   "id": "1ab0fb21-e4a8-492a-8448-730843b061fd",
   "metadata": {},
   "outputs": [],
   "source": []
  },
  {
   "cell_type": "markdown",
   "id": "f4c4a472-fe80-4498-93ff-02323163eb5d",
   "metadata": {},
   "source": [
    "## Q8. Comment on your findings on the table and the graph. (10pts)"
   ]
  },
  {
   "cell_type": "markdown",
   "id": "705a1f73-70e1-40d4-9dd7-2908633fae01",
   "metadata": {},
   "source": []
  },
  {
   "cell_type": "markdown",
   "id": "dc00c8c0",
   "metadata": {},
   "source": [
    "## Task2: Producing Sound\n",
    "Sound card is perfect for getting familiar to core DSP concepts. It is easily available and accessible. GNU Radio provides access to sound card via **audio source** and **audio sink** blocks. In this task, we will use a low pass filter. \n",
    "\n",
    "Create the flowgraph to generate a sine wave so that you can hear it. We will display the spectrum, too. \n",
    "<center><img src=\"./lab_dsp_tone_decimating_filter.png\" alt=\"gsm\" style=\"width: 1200px;\"/></center>\n",
    "<center>Figure 2: Produce a tone at the sound card </center>"
   ]
  },
  {
   "cell_type": "markdown",
   "id": "931df52e-e48c-4e10-879d-ea0e1d8c2293",
   "metadata": {},
   "source": [
    "## Q1. What is the default tone's frequency? What musical note does it correspond to? (10pts)"
   ]
  },
  {
   "cell_type": "code",
   "execution_count": null,
   "id": "8af793e7-c10a-4622-8e6f-36baee9591fb",
   "metadata": {},
   "outputs": [],
   "source": []
  },
  {
   "cell_type": "markdown",
   "id": "598ceec0-354a-475a-8734-39b1f04f3ef2",
   "metadata": {},
   "source": [
    "## Q2. Look at the documentation of the low pass filter we used from GNU Radio's website to see what parameters it takes. Write its parameters below. (10pts)"
   ]
  },
  {
   "cell_type": "code",
   "execution_count": null,
   "id": "9ae80724-93c6-416f-9d31-b897732f5c42",
   "metadata": {},
   "outputs": [],
   "source": []
  },
  {
   "cell_type": "markdown",
   "id": "3862f4d6-38f0-40fc-aa4e-cab93f7d3336",
   "metadata": {},
   "source": [
    "## Q3. What is the filter's cut-off frequency? (5pts)"
   ]
  },
  {
   "cell_type": "code",
   "execution_count": null,
   "id": "9b125a19-85ed-481d-a372-f01b783119c0",
   "metadata": {},
   "outputs": [],
   "source": []
  },
  {
   "cell_type": "markdown",
   "id": "4c626e2e-35a6-4bb6-b9ff-0650519a064f",
   "metadata": {},
   "source": [
    "## Q4. Sweep the frequency to see the impact of low pass filter. Write down what you observed below. (10pts)"
   ]
  },
  {
   "cell_type": "markdown",
   "id": "1e037e3d-2d52-4dc5-a32b-4dc2452ff2a3",
   "metadata": {},
   "source": []
  },
  {
   "cell_type": "markdown",
   "id": "c41cf27c-37d3-42dd-ac8a-048f62836093",
   "metadata": {},
   "source": [
    "## Q5. Change the frequency to 48440, 48880, 47560, 51000, 52000, 96440 in order and write down what you hear. (12pts)"
   ]
  },
  {
   "cell_type": "markdown",
   "id": "d11235bf-72b7-4f01-a551-cc9da9f85d8a",
   "metadata": {},
   "source": [
    "48440Hz:\n",
    "\n",
    "48880Hz:\n",
    "\n",
    "47560Hz:\n",
    "\n",
    "51000Hz:\n",
    "\n",
    "52000Hz:\n",
    "\n",
    "96440Hz:"
   ]
  },
  {
   "cell_type": "markdown",
   "id": "7e946207-d1ee-4946-8e94-5a9a70abcdf0",
   "metadata": {},
   "source": [
    "## Q6. Explain your understanding (What happens and why?) (12pts)"
   ]
  },
  {
   "cell_type": "markdown",
   "id": "0e6c7346-0cc0-4ea3-b2e5-9d94c7d3d739",
   "metadata": {},
   "source": []
  },
  {
   "cell_type": "markdown",
   "id": "dd84001d",
   "metadata": {},
   "source": [
    "## Task3: Decimation\n",
    "Now we will modify the previous flowgraph so that we will sample at a higher rate. But we will apply **decimation** in order to reduce data rate so that our sound card will be able to handle it. \n",
    "<center><img src=\"./lab_dsp_tone_decimating4_filter.png\" alt=\"gsm\" style=\"width: 1200px;\"/></center>\n",
    "<center>Figure 3: Decimation </center>\n",
    "\n",
    "### Be careful about sampling rate!\n",
    "Always make sure that sampling rate is consistent along with flowgraph. If not you will see peculiarities. Decimation reduces the rate and interpolation increases the rate in general. So after decimation or interpolation happens check that you set the correct rate for blocks in line. It is your resposibility to set it to correct value. GNU Radio just assumes you are aware of this fact and you set sampling rate correctly. "
   ]
  },
  {
   "cell_type": "markdown",
   "id": "bae4574e-5ae7-4d28-9a7e-c9ae7c40b96e",
   "metadata": {},
   "source": [
    "## Q1. What is default sampling rate? (5pts)"
   ]
  },
  {
   "cell_type": "markdown",
   "id": "af3f4fcc-6f18-4ed3-bcb1-4ffa56eb7e43",
   "metadata": {},
   "source": []
  },
  {
   "cell_type": "markdown",
   "id": "fe08a1d7-7690-4f9f-990e-6a5db81a10b6",
   "metadata": {},
   "source": [
    "## Q2. Where (at which block) does sampling rate change? (5pts)"
   ]
  },
  {
   "cell_type": "code",
   "execution_count": null,
   "id": "d4cc77de-d8f4-41a4-9b38-67681e1689cf",
   "metadata": {},
   "outputs": [],
   "source": []
  },
  {
   "cell_type": "markdown",
   "id": "64e21782",
   "metadata": {},
   "source": [
    "## Q3. Change the frequency to 48440, 48880, 47560, 51000, 52000, 96440 in order and write down what you hear. (12pts)\n",
    "48440Hz: \n",
    "\n",
    "48880Hz: \n",
    "\n",
    "47560Hz: \n",
    "\n",
    "51000Hz: \n",
    "\n",
    "52000Hz: \n",
    "\n",
    "96440Hz: "
   ]
  },
  {
   "cell_type": "markdown",
   "id": "587a0642-c9bd-4a7c-a596-649c810cfa51",
   "metadata": {},
   "source": [
    "## Q4. Explain your understanding (What happens and why?) (10pts)"
   ]
  },
  {
   "cell_type": "code",
   "execution_count": null,
   "id": "1b93ed4e-6f59-4fa7-9877-8420c8d757b2",
   "metadata": {},
   "outputs": [],
   "source": []
  },
  {
   "cell_type": "markdown",
   "id": "593d538a",
   "metadata": {},
   "source": [
    "## Task4: Remove filtering in decimation\n",
    "We explored decimation in the task above. Remove the taps variable and set taps = 1 in decimating FIR filter. Create the following flowgraph. \n",
    "<center><img src=\"./lab_dsp_tone_decimating4_nofilter.png\" alt=\"gsm\" style=\"width: 1200px;\"/></center>\n",
    "<center>Figure 3: Decimation </center>"
   ]
  },
  {
   "cell_type": "markdown",
   "id": "5883ed95-cdaf-4c8c-961a-9442955f382d",
   "metadata": {},
   "source": [
    "## Q1. Change the frequency to 48440, 48880, 47560, 51000, 52000, 96440 in order and write down what you hear. (12pts)\n",
    "\n",
    "48440Hz: \n",
    "\n",
    "48880Hz: \n",
    "\n",
    "47560Hz: \n",
    "\n",
    "51000Hz: \n",
    "\n",
    "52000Hz: \n",
    "\n",
    "96440Hz: "
   ]
  },
  {
   "cell_type": "markdown",
   "id": "b0ab6b21",
   "metadata": {},
   "source": [
    "## Task5: Producing Stereo Sound\n",
    "Last thing we will do is to produce stereo sound. This is easy with GNU Radio, just generate two different tones, let's say 440 and 350Hz for an example, and connect these to Audio Sink with two inputs. \n",
    "\n",
    "### DTMF - Dual Tone Multi-Frequency Tone\n",
    "DTMF dial tones are generated this way. They consist of two tones. "
   ]
  },
  {
   "cell_type": "markdown",
   "id": "cb99f68e-2791-4889-8231-472d5d06384a",
   "metadata": {},
   "source": [
    "## Q1. Create a flowgraph to produce '#' dial tone. (10pts)"
   ]
  },
  {
   "cell_type": "markdown",
   "id": "5d58d02e-2ab5-4881-a8fd-76c9cb2b0c91",
   "metadata": {},
   "source": []
  }
 ],
 "metadata": {
  "kernelspec": {
   "display_name": "Python 3 (ipykernel)",
   "language": "python",
   "name": "python3"
  },
  "language_info": {
   "codemirror_mode": {
    "name": "ipython",
    "version": 3
   },
   "file_extension": ".py",
   "mimetype": "text/x-python",
   "name": "python",
   "nbconvert_exporter": "python",
   "pygments_lexer": "ipython3",
   "version": "3.9.13"
  }
 },
 "nbformat": 4,
 "nbformat_minor": 5
}
