{
 "cells": [
  {
   "cell_type": "markdown",
   "metadata": {},
   "source": [
    "# LabSDR: Introduction to Software Defined Radio (SDR)"
   ]
  },
  {
   "cell_type": "markdown",
   "metadata": {},
   "source": [
    "## What is an SDR?\n",
    "**Software Defined Radio (SDR)** is a radio communication system where components that have been traditionally implemented in hardware (e.g.  mixers, filters, amplifiers, modulators/demodulators, detectors, etc.) are instead implemented by means of software on a personal computer or embedded system [wikipedia](https://en.wikipedia.org/wiki/Software-defined_radio). Computation platform can be anything from general purpose **CPUs to FPGAs, from GPUs to DSP** chips. \n",
    "\n",
    "With SDR one can access some part of electromagnetic spectrum, monitor, capture, demodulate it. Width of the RF signal depends on the capability of RF front-end. Another important factor is resolution. \n",
    "\n",
    "SDR has been an important tool in education, industry for years. It will provide us over-the-air signals easily so that we can make sure our DSP algorithms behave the same as they do in the simulation. \n",
    "\n",
    "In this lab we will learn about our SDR hardware and look into SDR tools giving us access to electromagnetic spectrum. "
   ]
  },
  {
   "cell_type": "markdown",
   "metadata": {},
   "source": [
    "## RTL-SDR\n",
    "Previously in DSP lab we have only used our PC with sound-card to implement some basic DSP functionalities. With this lab and forward we will use RF front-end to receive real signals around us. "
   ]
  },
  {
   "cell_type": "markdown",
   "metadata": {},
   "source": [
    "### Install RTL-SDR\n",
    "Follow instructions below to install RTL-SDR into your computer. \n",
    "1. Download zadig software from [here](https://zadig.akeo.ie/downloads/)\n",
    "2. Replace Windows installed driver with zadig's. You can find this [guide](https://www.rtl-sdr.com/rtl-sdr-quick-start-guide/) helpful. Check **steps 7, 8, 9, 10 and 11**.  \n",
    "3. If everything goes well now your test connection should succeed."
   ]
  },
  {
   "cell_type": "markdown",
   "metadata": {},
   "source": [
    "### Install Osmocom Software Suite\n",
    "There exist many software tools available for using with RTL-SDR. We will first use RTL-SDR with command line tools. These tools can be used to test device existance and perform some basic data transfer and decoding jobs. Much information can be obtained from [osmocom's wiki](https://osmocom.org/projects/rtl-sdr/wiki) page. Install binaries into your machine if you haven't done yet. Use this [link](https://downloads.osmocom.org/binaries/windows/rtl-sdr/) for Windows. You can also find the latest Windows build file in this week's repo. **Extract** these binaries along with dlls into your **miniconda ELE361 environment folder** so that they can be called within miniforge prompt. I extracted all these binaries and dlls into `C:\\Users\\murat\\miniforge3\\envs\\ELE361L`.\n",
    "\n",
    "Let's have a look at some of the binaries \n",
    "* **rtl_test**: this will test the device and its function.\n",
    "* **rtl_sdr**: enables saving raw samples into a file\n",
    "* **rtl_tcp**: networked interface that enables loading data, changing frequency, gain etc.\n",
    "* **rtl_fm**: receive commercial wide-band FM signals\n",
    "* **rtl_adsb**: decodes ADS-B signals emitted from airplanes"
   ]
  },
  {
   "cell_type": "markdown",
   "metadata": {},
   "source": [
    "### Test your RTL-SDR\n",
    "Use `rtl_test` tool to test your device. You can also get a list of gain you can apply. You should get a similar output shown below. \n",
    "```\n",
    "Found 1 device(s):\n",
    "  0:  Realtek, RTL2838UHIDIR, SN: 00000001\n",
    "\n",
    "Using device 0: Generic RTL2832U OEM\n",
    "Found Rafael Micro R820T tuner\n",
    "Supported gain values (29): 0.0 0.9 1.4 2.7 3.7 7.7 8.7 12.5 14.4 15.7 16.6 19.7 20.7 22.9 25.4 28.0 29.7 32.8 33.8 36.4 37.2 38.6 40.2 42.1 43.4 43.9 44.5 48.0 49.6 \n",
    "[R82XX] PLL not locked!\n",
    "Sampling at 2048000 S/s.\n",
    "\n",
    "Info: This tool will continuously read from the device, and report if\n",
    "samples get lost. If you observe no further output, everything is fine.\n",
    "\n",
    "Reading samples in async mode...\n",
    "Allocating 15 zero-copy buffers\n",
    "^C\n",
    "Signal caught, exiting!\n",
    "\n",
    "User cancel, exiting...\n",
    "Samples per million lost (minimum): 0\n",
    "```"
   ]
  },
  {
   "cell_type": "markdown",
   "metadata": {},
   "source": [
    "## SDR#\n",
    "We will use one of the most common general purpose SDR applications called SDR# in this lab. There are many general purpose SDR applications, and they do the same things more or less. We will see SDR# in action. "
   ]
  },
  {
   "cell_type": "markdown",
   "metadata": {},
   "source": [
    "### Install SDRSharp (SDR#) App\n",
    "We will be using SDR# in our lab. So use this [guide](https://www.rtl-sdr.com/rtl-sdr-quick-start-guide/) to install it. You may apply to the posts in this page if you encounter any problems. If you look for additional information about the RTL-SDR device, check this page, too. "
   ]
  },
  {
   "cell_type": "markdown",
   "metadata": {},
   "source": [
    "Although SDR# software is one of the most popular **general purpose SDR** tools, there exist many other. You can give it a try to the following tools. You should be able to connect to RTL-SDR to view spectrum, to demodulate a signal of interest. Here is the list to other SDR apps: \n",
    "* gqrx (Linux)\n",
    "* SATSAGEN(Windows)\n",
    "* SDR++\n",
    "* CubicSDR\n",
    "* Q Radio\n",
    "* SDRAngel\n",
    "* OpenWebRx (Web-based)"
   ]
  },
  {
   "cell_type": "markdown",
   "metadata": {},
   "source": [
    "## Task1: Check out your RTL-SDR\n",
    "Let's receive our first over-the-air signal using RTL-SDR within GNU Radio. Create the folowing simple flowgraph.\n",
    "<center><img src=\"./lab_sdr_rtl_sdr.png\" alt=\"rtl-sdr\" style=\"width: 1200px;\"/></center>\n",
    "<center>Figure 1: RTL-SDR </center>"
   ]
  },
  {
   "cell_type": "markdown",
   "metadata": {},
   "source": [
    "## Q1: Do we need to use the throttle block while we are using RTL-SDR?"
   ]
  },
  {
   "cell_type": "markdown",
   "metadata": {},
   "source": []
  },
  {
   "cell_type": "markdown",
   "metadata": {},
   "source": [
    "## Q2: In the waterfall diagram, what do x and y axises represent? "
   ]
  },
  {
   "cell_type": "markdown",
   "metadata": {},
   "source": []
  }
 ],
 "metadata": {
  "kernelspec": {
   "display_name": "Python 3 (ipykernel)",
   "language": "python",
   "name": "python3"
  },
  "language_info": {
   "codemirror_mode": {
    "name": "ipython",
    "version": 3
   },
   "file_extension": ".py",
   "mimetype": "text/x-python",
   "name": "python",
   "nbconvert_exporter": "python",
   "pygments_lexer": "ipython3",
   "version": "3.11.3"
  }
 },
 "nbformat": 4,
 "nbformat_minor": 4
}
